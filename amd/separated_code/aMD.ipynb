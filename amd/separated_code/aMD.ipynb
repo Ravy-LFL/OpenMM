{
 "cells": [
  {
   "cell_type": "code",
   "execution_count": 6,
   "id": "ddf0b4b3-5a76-438c-a3d7-5ea1e59e9750",
   "metadata": {},
   "outputs": [],
   "source": [
    "from openmm.app import *\n",
    "from openmm import *\n",
    "from openmm.unit import *\n",
    "from sys import stdout"
   ]
  },
  {
   "cell_type": "code",
   "execution_count": 7,
   "id": "4267c497-53a6-4d07-8624-ea551896d6b8",
   "metadata": {},
   "outputs": [],
   "source": [
    "pdb = PDBFile('/home/defense/leonfounlin/aMD_diff_Ab/collec_ab/clean_1IGT.pdb')"
   ]
  },
  {
   "cell_type": "code",
   "execution_count": 8,
   "id": "ea0bbffe-3229-40f9-b05f-c68a46430962",
   "metadata": {},
   "outputs": [],
   "source": [
    "forcefield = ForceField('charmm36.xml','charmm36/spce.xml')"
   ]
  },
  {
   "cell_type": "code",
   "execution_count": 9,
   "id": "eac84d8f-6d2c-44bc-b154-8fca20f400f3",
   "metadata": {},
   "outputs": [],
   "source": [
    "modeller = Modeller(pdb.topology,pdb.positions)\n",
    "modeller.deleteWater()\n",
    "residues = modeller.addHydrogens(forcefield)"
   ]
  },
  {
   "cell_type": "code",
   "execution_count": null,
   "id": "df05a35f-cdc7-4754-bf22-01d8bdf3126a",
   "metadata": {},
   "outputs": [
    {
     "ename": "KeyboardInterrupt",
     "evalue": "",
     "output_type": "error",
     "traceback": [
      "\u001b[0;31m---------------------------------------------------------------------------\u001b[0m",
      "\u001b[0;31mKeyboardInterrupt\u001b[0m                         Traceback (most recent call last)",
      "\u001b[1;32m/home/defense/leonfounlin/aMD_diff_Ab/notebooks/aMD.ipynb Cell 5\u001b[0m line \u001b[0;36m1\n\u001b[0;32m----> <a href='vscode-notebook-cell://ssh-remote%2Bdefense_dsimb/home/defense/leonfounlin/aMD_diff_Ab/notebooks/aMD.ipynb#W4sdnNjb2RlLXJlbW90ZQ%3D%3D?line=0'>1</a>\u001b[0m modeller\u001b[39m.\u001b[39;49maddSolvent(forcefield,padding\u001b[39m=\u001b[39;49m\u001b[39m0.1\u001b[39;49m\u001b[39m*\u001b[39;49mnanometer)\n",
      "File \u001b[0;32m~/micromamba/envs/openmm/lib/python3.12/site-packages/openmm/app/modeller.py:659\u001b[0m, in \u001b[0;36mModeller.addSolvent\u001b[0;34m(self, forcefield, model, boxSize, boxVectors, padding, numAdded, boxShape, positiveIon, negativeIon, ionicStrength, neutralize, residueTemplates)\u001b[0m\n\u001b[1;32m    656\u001b[0m numTotalWaters \u001b[39m=\u001b[39m \u001b[39mlen\u001b[39m(waterPos)\n\u001b[1;32m    658\u001b[0m \u001b[39m# Add ions to neutralize the system.\u001b[39;00m\n\u001b[0;32m--> 659\u001b[0m \u001b[39mself\u001b[39;49m\u001b[39m.\u001b[39;49m_addIons(forcefield, numTotalWaters, waterPos, positiveIon\u001b[39m=\u001b[39;49mpositiveIon, negativeIon\u001b[39m=\u001b[39;49mnegativeIon, ionicStrength\u001b[39m=\u001b[39;49mionicStrength, neutralize\u001b[39m=\u001b[39;49mneutralize, residueTemplates\u001b[39m=\u001b[39;49mresidueTemplates)\n",
      "File \u001b[0;32m~/micromamba/envs/openmm/lib/python3.12/site-packages/openmm/app/modeller.py:372\u001b[0m, in \u001b[0;36mModeller._addIons\u001b[0;34m(self, forcefield, numWaters, replaceableMols, ionCutoff, positiveIon, negativeIon, ionicStrength, neutralize, residueTemplates)\u001b[0m\n\u001b[1;32m    369\u001b[0m         \u001b[39mraise\u001b[39;00m \u001b[39mValueError\u001b[39;00m(\u001b[39m'\u001b[39m\u001b[39mCould not add more than \u001b[39m\u001b[39m{}\u001b[39;00m\u001b[39m ions to the system\u001b[39m\u001b[39m'\u001b[39m\u001b[39m.\u001b[39mformat(numAddedIons))\n\u001b[1;32m    371\u001b[0m \u001b[39m# Replace waters/ions in the topology\u001b[39;00m\n\u001b[0;32m--> 372\u001b[0m modeller\u001b[39m.\u001b[39;49mdelete(toReplace)\n\u001b[1;32m    373\u001b[0m ionChain \u001b[39m=\u001b[39m modeller\u001b[39m.\u001b[39mtopology\u001b[39m.\u001b[39maddChain()\n\u001b[1;32m    374\u001b[0m \u001b[39mfor\u001b[39;00m i, water \u001b[39min\u001b[39;00m \u001b[39menumerate\u001b[39m(toReplace):\n",
      "File \u001b[0;32m~/micromamba/envs/openmm/lib/python3.12/site-packages/openmm/app/modeller.py:177\u001b[0m, in \u001b[0;36mModeller.delete\u001b[0;34m(self, toDelete)\u001b[0m\n\u001b[1;32m    175\u001b[0m                         newAtom \u001b[39m=\u001b[39m newTopology\u001b[39m.\u001b[39maddAtom(atom\u001b[39m.\u001b[39mname, atom\u001b[39m.\u001b[39melement, newResidue, atom\u001b[39m.\u001b[39mid)\n\u001b[1;32m    176\u001b[0m                         newAtoms[atom] \u001b[39m=\u001b[39m newAtom\n\u001b[0;32m--> 177\u001b[0m                         newPositions\u001b[39m.\u001b[39mappend(deepcopy(\u001b[39mself\u001b[39;49m\u001b[39m.\u001b[39;49mpositions[atom\u001b[39m.\u001b[39;49mindex]))\n\u001b[1;32m    178\u001b[0m \u001b[39mfor\u001b[39;00m bond \u001b[39min\u001b[39;00m \u001b[39mself\u001b[39m\u001b[39m.\u001b[39mtopology\u001b[39m.\u001b[39mbonds():\n\u001b[1;32m    179\u001b[0m     \u001b[39mif\u001b[39;00m bond[\u001b[39m0\u001b[39m] \u001b[39min\u001b[39;00m newAtoms \u001b[39mand\u001b[39;00m bond[\u001b[39m1\u001b[39m] \u001b[39min\u001b[39;00m newAtoms:\n",
      "File \u001b[0;32m~/micromamba/envs/openmm/lib/python3.12/copy.py:143\u001b[0m, in \u001b[0;36mdeepcopy\u001b[0;34m(x, memo, _nil)\u001b[0m\n\u001b[1;32m    141\u001b[0m copier \u001b[39m=\u001b[39m \u001b[39mgetattr\u001b[39m(x, \u001b[39m\"\u001b[39m\u001b[39m__deepcopy__\u001b[39m\u001b[39m\"\u001b[39m, \u001b[39mNone\u001b[39;00m)\n\u001b[1;32m    142\u001b[0m \u001b[39mif\u001b[39;00m copier \u001b[39mis\u001b[39;00m \u001b[39mnot\u001b[39;00m \u001b[39mNone\u001b[39;00m:\n\u001b[0;32m--> 143\u001b[0m     y \u001b[39m=\u001b[39m copier(memo)\n\u001b[1;32m    144\u001b[0m \u001b[39melse\u001b[39;00m:\n\u001b[1;32m    145\u001b[0m     reductor \u001b[39m=\u001b[39m dispatch_table\u001b[39m.\u001b[39mget(\u001b[39mcls\u001b[39m)\n",
      "File \u001b[0;32m~/micromamba/envs/openmm/lib/python3.12/site-packages/openmm/unit/quantity.py:199\u001b[0m, in \u001b[0;36mQuantity.__deepcopy__\u001b[0;34m(self, memo)\u001b[0m\n\u001b[1;32m    194\u001b[0m \u001b[39mdef\u001b[39;00m \u001b[39m__deepcopy__\u001b[39m(\u001b[39mself\u001b[39m, memo):\n\u001b[1;32m    195\u001b[0m \u001b[39m    \u001b[39m\u001b[39m\"\"\"\u001b[39;00m\n\u001b[1;32m    196\u001b[0m \u001b[39m    Deep copy produces a new Quantity with a deep copy of the value, and the same unit.\u001b[39;00m\n\u001b[1;32m    197\u001b[0m \u001b[39m    Because we want copy operations to work just the same way they would on the underlying value.\u001b[39;00m\n\u001b[1;32m    198\u001b[0m \u001b[39m    \"\"\"\u001b[39;00m\n\u001b[0;32m--> 199\u001b[0m     \u001b[39mreturn\u001b[39;00m Quantity(copy\u001b[39m.\u001b[39;49mdeepcopy(\u001b[39mself\u001b[39;49m\u001b[39m.\u001b[39;49m_value, memo), \u001b[39mself\u001b[39;49m\u001b[39m.\u001b[39;49munit)\n",
      "File \u001b[0;32m~/micromamba/envs/openmm/lib/python3.12/site-packages/openmm/unit/quantity.py:100\u001b[0m, in \u001b[0;36mQuantity.__init__\u001b[0;34m(self, value, unit)\u001b[0m\n\u001b[1;32m     82\u001b[0m \u001b[39m\u001b[39m\u001b[39m\"\"\"Physical quantity, such as 1.3 meters per second.\u001b[39;00m\n\u001b[1;32m     83\u001b[0m \n\u001b[1;32m     84\u001b[0m \u001b[39mQuantities contain both a value, such as 1.3; and a unit,\u001b[39;00m\n\u001b[0;32m   (...)\u001b[0m\n\u001b[1;32m     96\u001b[0m \u001b[39m5. numpy.arrays\u001b[39;00m\n\u001b[1;32m     97\u001b[0m \u001b[39m\"\"\"\u001b[39;00m\n\u001b[1;32m     98\u001b[0m __array_priority__ \u001b[39m=\u001b[39m \u001b[39m99\u001b[39m\n\u001b[0;32m--> 100\u001b[0m \u001b[39mdef\u001b[39;00m \u001b[39m__init__\u001b[39m(\u001b[39mself\u001b[39m, value\u001b[39m=\u001b[39m\u001b[39mNone\u001b[39;00m, unit\u001b[39m=\u001b[39m\u001b[39mNone\u001b[39;00m):\n\u001b[1;32m    101\u001b[0m \u001b[39m    \u001b[39m\u001b[39m\"\"\"\u001b[39;00m\n\u001b[1;32m    102\u001b[0m \u001b[39m    Create a new Quantity from a value and a unit.\u001b[39;00m\n\u001b[1;32m    103\u001b[0m \n\u001b[0;32m   (...)\u001b[0m\n\u001b[1;32m    106\u001b[0m \u001b[39m     - unit: (Unit) the physical unit, e.g. openmm.unit.meters.\u001b[39;00m\n\u001b[1;32m    107\u001b[0m \u001b[39m    \"\"\"\u001b[39;00m\n\u001b[1;32m    108\u001b[0m     \u001b[39m# When no unit is specified, bend over backwards to handle all one-argument possibilities\u001b[39;00m\n",
      "\u001b[0;31mKeyboardInterrupt\u001b[0m: "
     ]
    }
   ],
   "source": [
    "modeller.addSolvent(forcefield,padding=0.1*nanometer)"
   ]
  },
  {
   "cell_type": "code",
   "execution_count": null,
   "id": "cdf96079-1556-413f-90db-d8f47486f155",
   "metadata": {},
   "outputs": [],
   "source": [
    "platform = Platform.getPlatformByName('CUDA')"
   ]
  },
  {
   "cell_type": "code",
   "execution_count": null,
   "id": "f1b19d3b-13df-47ef-b176-2d1f54819ed3",
   "metadata": {},
   "outputs": [],
   "source": [
    "system = forcefield.createSystem(modeller.topology, nonbondedMethod=PME, nonbondedCutoff=2.0*nanometer, constraints=HBonds)\n",
    "integrator = CompoundIntegrator()\n",
    "integrator.addIntegrator(LangevinIntegrator(300,1/picoseconds,2*femtoseconds))\n",
    "integrator.addIntegrator(AMDIntegrator(0.002*picoseconds, 5, -9280669.89706166))\n",
    "simulation = Simulation(modeller.topology, system, integrator,platform)\n",
    "simulation.context.setPositions(modeller.positions)"
   ]
  },
  {
   "cell_type": "code",
   "execution_count": null,
   "id": "08ff30b4-6f71-47e6-b381-90941f4df0ad",
   "metadata": {},
   "outputs": [
    {
     "name": "stdout",
     "output_type": "stream",
     "text": [
      "Minimizing energy\n"
     ]
    }
   ],
   "source": [
    "print(\"Minimizing energy\")\n",
    "simulation.minimizeEnergy()"
   ]
  },
  {
   "cell_type": "code",
   "execution_count": null,
   "id": "04b72681-d095-480e-a198-f52c783a1f05",
   "metadata": {},
   "outputs": [],
   "source": [
    "simulation.reporters.append(PDBReporter('/home/defense/leonfounlin/aMD_diff_Ab/collec_ab/aoutput.pdb', 1000))\n",
    "simulation.reporters.append(StateDataReporter(stdout, 1000, step=True,\n",
    "        potentialEnergy=True, temperature=True, volume=True))\n",
    "simulation.reporters.append(StateDataReporter(\"/home/defense/leonfounlin/aMD_diff_Ab/collec_ab/amd_log.txt\", 100, step=True,\n",
    "        potentialEnergy=True, temperature=True, volume=True))"
   ]
  },
  {
   "cell_type": "code",
   "execution_count": null,
   "id": "fe43c44b-395b-4f7e-bbb9-7eb64df8297b",
   "metadata": {},
   "outputs": [
    {
     "name": "stdout",
     "output_type": "stream",
     "text": [
      "Running NVT\n",
      "#\"Step\",\"Potential Energy (kJ/mole)\",\"Temperature (K)\",\"Box Volume (nm^3)\"\n",
      "1000,-904210.3466966948,255.98942024754734,594.6449738947617\n",
      "2000,-879559.9658373198,294.0935203250811,594.6449738947617\n",
      "3000,-872153.7920091948,298.38617328558433,594.6449738947617\n",
      "4000,-870810.8545091948,297.04426164150107,594.6449738947617\n",
      "5000,-870626.0302904448,301.6485024855213,594.6449738947617\n",
      "6000,-870559.9384935698,301.95061066402656,594.6449738947617\n",
      "7000,-871379.4248216948,300.9304337158941,594.6449738947617\n",
      "8000,-871530.6670091948,300.0647963799298,594.6449738947617\n",
      "9000,-870570.1689623198,298.7971690844735,594.6449738947617\n",
      "10000,-870332.2568529448,298.34887174468986,594.6449738947617\n"
     ]
    },
    {
     "ename": "KeyboardInterrupt",
     "evalue": "",
     "output_type": "error",
     "traceback": [
      "\u001b[0;31m---------------------------------------------------------------------------\u001b[0m",
      "\u001b[0;31mKeyboardInterrupt\u001b[0m                         Traceback (most recent call last)",
      "\u001b[0;32m/tmp/ipykernel_164341/3404652132.py\u001b[0m in \u001b[0;36m?\u001b[0;34m()\u001b[0m\n\u001b[1;32m      1\u001b[0m \u001b[0mprint\u001b[0m\u001b[0;34m(\u001b[0m\u001b[0;34m\"Running NVT\"\u001b[0m\u001b[0;34m)\u001b[0m\u001b[0;34m\u001b[0m\u001b[0;34m\u001b[0m\u001b[0m\n\u001b[1;32m      2\u001b[0m \u001b[0mintegrator\u001b[0m\u001b[0;34m.\u001b[0m\u001b[0msetCurrentIntegrator\u001b[0m\u001b[0;34m(\u001b[0m\u001b[0;36m0\u001b[0m\u001b[0;34m)\u001b[0m\u001b[0;34m\u001b[0m\u001b[0;34m\u001b[0m\u001b[0m\n\u001b[0;32m----> 3\u001b[0;31m \u001b[0msimulation\u001b[0m\u001b[0;34m.\u001b[0m\u001b[0mstep\u001b[0m\u001b[0;34m(\u001b[0m\u001b[0;36m50000\u001b[0m\u001b[0;34m)\u001b[0m\u001b[0;34m\u001b[0m\u001b[0;34m\u001b[0m\u001b[0m\n\u001b[0m",
      "\u001b[0;32m~/micromamba/envs/openmm/lib/python3.12/site-packages/openmm/app/simulation.py\u001b[0m in \u001b[0;36m?\u001b[0;34m(self, steps)\u001b[0m\n\u001b[1;32m    145\u001b[0m     \u001b[0;32mdef\u001b[0m \u001b[0mstep\u001b[0m\u001b[0;34m(\u001b[0m\u001b[0mself\u001b[0m\u001b[0;34m,\u001b[0m \u001b[0msteps\u001b[0m\u001b[0;34m)\u001b[0m\u001b[0;34m:\u001b[0m\u001b[0;34m\u001b[0m\u001b[0;34m\u001b[0m\u001b[0m\n\u001b[1;32m    146\u001b[0m         \u001b[0;34m\"\"\"Advance the simulation by integrating a specified number of time steps.\"\"\"\u001b[0m\u001b[0;34m\u001b[0m\u001b[0;34m\u001b[0m\u001b[0m\n\u001b[0;32m--> 147\u001b[0;31m         \u001b[0mself\u001b[0m\u001b[0;34m.\u001b[0m\u001b[0m_simulate\u001b[0m\u001b[0;34m(\u001b[0m\u001b[0mendStep\u001b[0m\u001b[0;34m=\u001b[0m\u001b[0mself\u001b[0m\u001b[0;34m.\u001b[0m\u001b[0mcurrentStep\u001b[0m\u001b[0;34m+\u001b[0m\u001b[0msteps\u001b[0m\u001b[0;34m)\u001b[0m\u001b[0;34m\u001b[0m\u001b[0;34m\u001b[0m\u001b[0m\n\u001b[0m",
      "\u001b[0;32m~/micromamba/envs/openmm/lib/python3.12/site-packages/openmm/app/simulation.py\u001b[0m in \u001b[0;36m?\u001b[0;34m(self, endStep, endTime)\u001b[0m\n\u001b[1;32m    208\u001b[0m                     \u001b[0mnextSteps\u001b[0m \u001b[0;34m=\u001b[0m \u001b[0mnextReport\u001b[0m\u001b[0;34m[\u001b[0m\u001b[0mi\u001b[0m\u001b[0;34m]\u001b[0m\u001b[0;34m[\u001b[0m\u001b[0;36m0\u001b[0m\u001b[0;34m]\u001b[0m\u001b[0;34m\u001b[0m\u001b[0;34m\u001b[0m\u001b[0m\n\u001b[1;32m    209\u001b[0m                     \u001b[0manyReport\u001b[0m \u001b[0;34m=\u001b[0m \u001b[0;32mTrue\u001b[0m\u001b[0;34m\u001b[0m\u001b[0;34m\u001b[0m\u001b[0m\n\u001b[1;32m    210\u001b[0m             \u001b[0mstepsToGo\u001b[0m \u001b[0;34m=\u001b[0m \u001b[0mnextSteps\u001b[0m\u001b[0;34m\u001b[0m\u001b[0;34m\u001b[0m\u001b[0m\n\u001b[1;32m    211\u001b[0m             \u001b[0;32mwhile\u001b[0m \u001b[0mstepsToGo\u001b[0m \u001b[0;34m>\u001b[0m \u001b[0;36m10\u001b[0m\u001b[0;34m:\u001b[0m\u001b[0;34m\u001b[0m\u001b[0;34m\u001b[0m\u001b[0m\n\u001b[0;32m--> 212\u001b[0;31m                 \u001b[0mself\u001b[0m\u001b[0;34m.\u001b[0m\u001b[0mintegrator\u001b[0m\u001b[0;34m.\u001b[0m\u001b[0mstep\u001b[0m\u001b[0;34m(\u001b[0m\u001b[0;36m10\u001b[0m\u001b[0;34m)\u001b[0m \u001b[0;31m# Only take 10 steps at a time, to give Python more chances to respond to a control-c.\u001b[0m\u001b[0;34m\u001b[0m\u001b[0;34m\u001b[0m\u001b[0m\n\u001b[0m\u001b[1;32m    213\u001b[0m                 \u001b[0mstepsToGo\u001b[0m \u001b[0;34m-=\u001b[0m \u001b[0;36m10\u001b[0m\u001b[0;34m\u001b[0m\u001b[0;34m\u001b[0m\u001b[0m\n\u001b[1;32m    214\u001b[0m                 \u001b[0;32mif\u001b[0m \u001b[0mendTime\u001b[0m \u001b[0;32mis\u001b[0m \u001b[0;32mnot\u001b[0m \u001b[0;32mNone\u001b[0m \u001b[0;32mand\u001b[0m \u001b[0mdatetime\u001b[0m\u001b[0;34m.\u001b[0m\u001b[0mnow\u001b[0m\u001b[0;34m(\u001b[0m\u001b[0;34m)\u001b[0m \u001b[0;34m>=\u001b[0m \u001b[0mendTime\u001b[0m\u001b[0;34m:\u001b[0m\u001b[0;34m\u001b[0m\u001b[0;34m\u001b[0m\u001b[0m\n\u001b[1;32m    215\u001b[0m                     \u001b[0;32mreturn\u001b[0m\u001b[0;34m\u001b[0m\u001b[0;34m\u001b[0m\u001b[0m\n",
      "\u001b[0;32m~/micromamba/envs/openmm/lib/python3.12/site-packages/openmm/openmm.py\u001b[0m in \u001b[0;36m?\u001b[0;34m(self, steps)\u001b[0m\n\u001b[1;32m   1765\u001b[0m         \u001b[0;34m-\u001b[0m\u001b[0;34m-\u001b[0m\u001b[0;34m-\u001b[0m\u001b[0;34m-\u001b[0m\u001b[0;34m-\u001b[0m\u001b[0;34m-\u001b[0m\u001b[0;34m-\u001b[0m\u001b[0;34m-\u001b[0m\u001b[0;34m-\u001b[0m\u001b[0;34m-\u001b[0m\u001b[0;34m\u001b[0m\u001b[0;34m\u001b[0m\u001b[0m\n\u001b[1;32m   1766\u001b[0m         \u001b[0msteps\u001b[0m \u001b[0;34m:\u001b[0m \u001b[0mint\u001b[0m\u001b[0;34m\u001b[0m\u001b[0;34m\u001b[0m\u001b[0m\n\u001b[1;32m   1767\u001b[0m             \u001b[0mthe\u001b[0m \u001b[0mnumber\u001b[0m \u001b[0mof\u001b[0m \u001b[0mtime\u001b[0m \u001b[0msteps\u001b[0m \u001b[0mto\u001b[0m \u001b[0mtake\u001b[0m\u001b[0;34m\u001b[0m\u001b[0;34m\u001b[0m\u001b[0m\n\u001b[1;32m   1768\u001b[0m         \"\"\"\n\u001b[0;32m-> 1769\u001b[0;31m         \u001b[0;32mreturn\u001b[0m \u001b[0m_openmm\u001b[0m\u001b[0;34m.\u001b[0m\u001b[0mCompoundIntegrator_step\u001b[0m\u001b[0;34m(\u001b[0m\u001b[0mself\u001b[0m\u001b[0;34m,\u001b[0m \u001b[0msteps\u001b[0m\u001b[0;34m)\u001b[0m\u001b[0;34m\u001b[0m\u001b[0;34m\u001b[0m\u001b[0m\n\u001b[0m",
      "\u001b[0;31mKeyboardInterrupt\u001b[0m: "
     ]
    }
   ],
   "source": [
    "print(\"Running NVT\")\n",
    "integrator.setCurrentIntegrator(0)\n",
    "simulation.step(50000)"
   ]
  },
  {
   "cell_type": "code",
   "execution_count": null,
   "id": "019d4173-c8c6-4d24-b358-141957f27863",
   "metadata": {},
   "outputs": [],
   "source": [
    "system.addForce(MonteCarloBarostat(1*bar, 300*kelvin))\n",
    "simulation.context.reinitialize(preserveState=True)"
   ]
  },
  {
   "cell_type": "code",
   "execution_count": null,
   "id": "a260ab05-be5f-458d-8cfc-288e7e977d83",
   "metadata": {},
   "outputs": [],
   "source": [
    "simulation.reporters.append(DCDReporter('/home/defense/leonfounlin/aMD_diff_Ab/collec_ab/atrajectory_npt.dcd',100,enforcePeriodicBox=True))"
   ]
  },
  {
   "cell_type": "code",
   "execution_count": null,
   "id": "d035b2f7-c87c-4bf6-916d-7e273d87772d",
   "metadata": {},
   "outputs": [],
   "source": [
    "print(\"Running NPT\")\n",
    "integrator.setCurrentIntegrator(1)\n",
    "simulation.step(100000000)"
   ]
  },
  {
   "cell_type": "code",
   "execution_count": null,
   "id": "bd894a32-89d5-4c21-aeea-eba467da8c57",
   "metadata": {},
   "outputs": [],
   "source": [
    "import matplotlib.pyplot as plt\n",
    "import numpy as np\n",
    "import statistics as stc"
   ]
  },
  {
   "cell_type": "code",
   "execution_count": null,
   "id": "c52ff949-d71a-4b36-923c-e23c89138df9",
   "metadata": {},
   "outputs": [],
   "source": [
    "with open('amd_log.txt', 'r') as f :\n",
    "    data = [i.strip() for i in f.readlines()]\n",
    "    print(data[0].split(','))\n",
    "    data = [i.split(',') for i in data[1:]]\n",
    "    data_array = np.array(data).astype('float')\n",
    "    potential = data_array[:,1][600:]\n",
    "    temperature = data_array[:,2][600:]\n",
    "plt.plot(potential)"
   ]
  },
  {
   "cell_type": "code",
   "execution_count": null,
   "id": "6abff296-52c1-4d49-9b9d-ee7b6225ac03",
   "metadata": {},
   "outputs": [],
   "source": [
    "plt.plot(temperature)"
   ]
  },
  {
   "cell_type": "code",
   "execution_count": null,
   "id": "2bdbba4a-729e-4c9e-a792-b4d16d5aabae",
   "metadata": {},
   "outputs": [],
   "source": [
    "system.getNumParticles()"
   ]
  },
  {
   "cell_type": "code",
   "execution_count": null,
   "id": "e428c25f-1fe4-4bcd-b3ad-a9bb8a100928",
   "metadata": {},
   "outputs": [],
   "source": [
    "def comp_P(V):\n",
    "    kb = 1,380649*10-23\n",
    "    N = 59328\n",
    "    T = 300\n",
    "    P = (N*kb*T)/V\n",
    "    return P"
   ]
  },
  {
   "cell_type": "code",
   "execution_count": null,
   "id": "63908a32-b52f-4111-bc31-5347f0125e36",
   "metadata": {},
   "outputs": [],
   "source": []
  },
  {
   "cell_type": "code",
   "execution_count": null,
   "id": "ca96c0c3-0217-4d41-bb4c-1c9fe97135bd",
   "metadata": {},
   "outputs": [],
   "source": [
    "stc.mean(potential)"
   ]
  }
 ],
 "metadata": {
  "kernelspec": {
   "display_name": "Python 3",
   "language": "python",
   "name": "python3"
  },
  "language_info": {
   "codemirror_mode": {
    "name": "ipython",
    "version": 3
   },
   "file_extension": ".py",
   "mimetype": "text/x-python",
   "name": "python",
   "nbconvert_exporter": "python",
   "pygments_lexer": "ipython3",
   "version": "3.12.1"
  }
 },
 "nbformat": 4,
 "nbformat_minor": 5
}
